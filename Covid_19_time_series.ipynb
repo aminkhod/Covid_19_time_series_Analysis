{
 "cells": [
  {
   "cell_type": "code",
   "execution_count": 136,
   "metadata": {},
   "outputs": [],
   "source": [
    "import numpy as np\n",
    "import pandas as pd\n",
    "import seaborn as sns\n",
    "import matplotlib.pyplot as plt\n",
    "%matplotlib inline\n",
    "import os\n",
    "import datetime\n",
    "from tqdm import tqdm\n",
    "import warnings\n",
    "from sklearn.feature_extraction.text import CountVectorizer\n",
    "from sklearn.tree import DecisionTreeRegressor\n",
    "from sklearn.model_selection import TimeSeriesSplit\n",
    "from sklearn.model_selection import GridSearchCV, RandomizedSearchCV\n",
    "from sklearn.metrics import mean_squared_error\n",
    "from sklearn.linear_model import LinearRegression, Lasso, Ridge\n",
    "from sklearn.svm import LinearSVR\n",
    "import pickle\n",
    "from sklearn.metrics import mean_squared_error \n",
    "warnings.filterwarnings(\"ignore\")"
   ]
  },
  {
   "cell_type": "code",
   "execution_count": 137,
   "metadata": {},
   "outputs": [
    {
     "data": {
      "text/html": [
       "<div>\n",
       "<style scoped>\n",
       "    .dataframe tbody tr th:only-of-type {\n",
       "        vertical-align: middle;\n",
       "    }\n",
       "\n",
       "    .dataframe tbody tr th {\n",
       "        vertical-align: top;\n",
       "    }\n",
       "\n",
       "    .dataframe thead th {\n",
       "        text-align: right;\n",
       "    }\n",
       "</style>\n",
       "<table border=\"1\" class=\"dataframe\">\n",
       "  <thead>\n",
       "    <tr style=\"text-align: right;\">\n",
       "      <th></th>\n",
       "      <th>ObservationDate</th>\n",
       "      <th>days</th>\n",
       "      <th>Sum of Confirmed</th>\n",
       "      <th>Sum of Deaths</th>\n",
       "      <th>Sum of Recovered</th>\n",
       "    </tr>\n",
       "  </thead>\n",
       "  <tbody>\n",
       "    <tr>\n",
       "      <th>0</th>\n",
       "      <td>22-Jan</td>\n",
       "      <td>1</td>\n",
       "      <td>555</td>\n",
       "      <td>17</td>\n",
       "      <td>28</td>\n",
       "    </tr>\n",
       "    <tr>\n",
       "      <th>1</th>\n",
       "      <td>23-Jan</td>\n",
       "      <td>2</td>\n",
       "      <td>653</td>\n",
       "      <td>18</td>\n",
       "      <td>30</td>\n",
       "    </tr>\n",
       "    <tr>\n",
       "      <th>2</th>\n",
       "      <td>24-Jan</td>\n",
       "      <td>3</td>\n",
       "      <td>941</td>\n",
       "      <td>26</td>\n",
       "      <td>36</td>\n",
       "    </tr>\n",
       "    <tr>\n",
       "      <th>3</th>\n",
       "      <td>25-Jan</td>\n",
       "      <td>4</td>\n",
       "      <td>1438</td>\n",
       "      <td>42</td>\n",
       "      <td>39</td>\n",
       "    </tr>\n",
       "    <tr>\n",
       "      <th>4</th>\n",
       "      <td>26-Jan</td>\n",
       "      <td>5</td>\n",
       "      <td>2118</td>\n",
       "      <td>56</td>\n",
       "      <td>52</td>\n",
       "    </tr>\n",
       "  </tbody>\n",
       "</table>\n",
       "</div>"
      ],
      "text/plain": [
       "  ObservationDate  days  Sum of Confirmed  Sum of Deaths  Sum of Recovered\n",
       "0          22-Jan     1               555             17                28\n",
       "1          23-Jan     2               653             18                30\n",
       "2          24-Jan     3               941             26                36\n",
       "3          25-Jan     4              1438             42                39\n",
       "4          26-Jan     5              2118             56                52"
      ]
     },
     "execution_count": 137,
     "metadata": {},
     "output_type": "execute_result"
    }
   ],
   "source": [
    "data = pd.read_excel('covid_19_data.xlsx',sheet_name='per day')\n",
    "data.head()"
   ]
  },
  {
   "cell_type": "code",
   "execution_count": 177,
   "metadata": {},
   "outputs": [],
   "source": [
    "X = np.reshape(list(data['days']),(-1, 1))\n",
    "X_train = X[:int(.9*len(X))]\n",
    "y = np.reshape(list(data['Sum of Confirmed']),(-1, 1))\n",
    "y_train = y[:int(.9*len(y))]\n",
    "X_valid = X[int(.9*len(X)):]\n",
    "y_valid = y[int(.9*len(y)):]"
   ]
  },
  {
   "cell_type": "code",
   "execution_count": 178,
   "metadata": {},
   "outputs": [],
   "source": [
    "# define eval metrics\n",
    "def rmspe(y, yhat):\n",
    "    return np.sqrt(np.mean((yhat/y-1) ** 2))\n",
    "\n",
    "def rmspe_xg(yhat, y):\n",
    "    y = y.get_label()\n",
    "    return \"rmspe\", rmspe(y,yhat)"
   ]
  },
  {
   "cell_type": "markdown",
   "metadata": {},
   "source": [
    "## Lasso Regression"
   ]
  },
  {
   "cell_type": "code",
   "execution_count": 179,
   "metadata": {},
   "outputs": [
    {
     "name": "stdout",
     "output_type": "stream",
     "text": [
      "Fitting 3 folds for each of 11 candidates, totalling 33 fits\n"
     ]
    },
    {
     "name": "stderr",
     "output_type": "stream",
     "text": [
      "[Parallel(n_jobs=-1)]: Using backend LokyBackend with 8 concurrent workers.\n",
      "[Parallel(n_jobs=-1)]: Done  18 out of  33 | elapsed:    0.0s remaining:    0.0s\n",
      "[Parallel(n_jobs=-1)]: Done  33 out of  33 | elapsed:    0.0s finished\n"
     ]
    }
   ],
   "source": [
    "lasso_regression = Lasso()\n",
    "parameters = {'alpha':[10**-5, 10**-4, 10**-3, 10**-2, 0.1, 1, 10, 10**2, 10**3, 10**4, 10**5]}\n",
    "tscv = TimeSeriesSplit(n_splits=3)\n",
    "clf = GridSearchCV(lasso_regression, parameters, cv=tscv, scoring='neg_mean_squared_error', verbose = 2, return_train_score=True, n_jobs = -1)\n",
    "clf.fit(X_train, np.log2(y_train))\n",
    "\n",
    "results = pd.DataFrame.from_dict(clf.cv_results_)"
   ]
  },
  {
   "cell_type": "code",
   "execution_count": 180,
   "metadata": {},
   "outputs": [
    {
     "data": {
      "text/html": [
       "<div>\n",
       "<style scoped>\n",
       "    .dataframe tbody tr th:only-of-type {\n",
       "        vertical-align: middle;\n",
       "    }\n",
       "\n",
       "    .dataframe tbody tr th {\n",
       "        vertical-align: top;\n",
       "    }\n",
       "\n",
       "    .dataframe thead th {\n",
       "        text-align: right;\n",
       "    }\n",
       "</style>\n",
       "<table border=\"1\" class=\"dataframe\">\n",
       "  <thead>\n",
       "    <tr style=\"text-align: right;\">\n",
       "      <th></th>\n",
       "      <th>mean_fit_time</th>\n",
       "      <th>std_fit_time</th>\n",
       "      <th>mean_score_time</th>\n",
       "      <th>std_score_time</th>\n",
       "      <th>param_alpha</th>\n",
       "      <th>params</th>\n",
       "      <th>split0_test_score</th>\n",
       "      <th>split1_test_score</th>\n",
       "      <th>split2_test_score</th>\n",
       "      <th>mean_test_score</th>\n",
       "      <th>std_test_score</th>\n",
       "      <th>rank_test_score</th>\n",
       "      <th>split0_train_score</th>\n",
       "      <th>split1_train_score</th>\n",
       "      <th>split2_train_score</th>\n",
       "      <th>mean_train_score</th>\n",
       "      <th>std_train_score</th>\n",
       "    </tr>\n",
       "  </thead>\n",
       "  <tbody>\n",
       "    <tr>\n",
       "      <th>0</th>\n",
       "      <td>0.000997</td>\n",
       "      <td>8.485379e-07</td>\n",
       "      <td>0.000334</td>\n",
       "      <td>4.723819e-04</td>\n",
       "      <td>1e-05</td>\n",
       "      <td>{'alpha': 1e-05}</td>\n",
       "      <td>-1.820046</td>\n",
       "      <td>-7.865763</td>\n",
       "      <td>-8.952069</td>\n",
       "      <td>-6.212626</td>\n",
       "      <td>3.137524</td>\n",
       "      <td>7</td>\n",
       "      <td>-1.102613</td>\n",
       "      <td>-0.677302</td>\n",
       "      <td>-1.080107</td>\n",
       "      <td>-0.953341</td>\n",
       "      <td>0.195405</td>\n",
       "    </tr>\n",
       "    <tr>\n",
       "      <th>1</th>\n",
       "      <td>0.000664</td>\n",
       "      <td>4.698539e-04</td>\n",
       "      <td>0.000331</td>\n",
       "      <td>4.682234e-04</td>\n",
       "      <td>0.0001</td>\n",
       "      <td>{'alpha': 0.0001}</td>\n",
       "      <td>-1.819990</td>\n",
       "      <td>-7.865717</td>\n",
       "      <td>-8.952040</td>\n",
       "      <td>-6.212582</td>\n",
       "      <td>3.137534</td>\n",
       "      <td>6</td>\n",
       "      <td>-1.102613</td>\n",
       "      <td>-0.677302</td>\n",
       "      <td>-1.080107</td>\n",
       "      <td>-0.953341</td>\n",
       "      <td>0.195405</td>\n",
       "    </tr>\n",
       "    <tr>\n",
       "      <th>2</th>\n",
       "      <td>0.000993</td>\n",
       "      <td>6.184602e-06</td>\n",
       "      <td>0.000998</td>\n",
       "      <td>7.786718e-07</td>\n",
       "      <td>0.001</td>\n",
       "      <td>{'alpha': 0.001}</td>\n",
       "      <td>-1.819425</td>\n",
       "      <td>-7.865267</td>\n",
       "      <td>-8.951751</td>\n",
       "      <td>-6.212147</td>\n",
       "      <td>3.137634</td>\n",
       "      <td>5</td>\n",
       "      <td>-1.102613</td>\n",
       "      <td>-0.677302</td>\n",
       "      <td>-1.080107</td>\n",
       "      <td>-0.953341</td>\n",
       "      <td>0.195405</td>\n",
       "    </tr>\n",
       "    <tr>\n",
       "      <th>3</th>\n",
       "      <td>0.000998</td>\n",
       "      <td>3.893359e-07</td>\n",
       "      <td>0.000000</td>\n",
       "      <td>0.000000e+00</td>\n",
       "      <td>0.01</td>\n",
       "      <td>{'alpha': 0.01}</td>\n",
       "      <td>-1.813785</td>\n",
       "      <td>-7.860758</td>\n",
       "      <td>-8.948855</td>\n",
       "      <td>-6.207800</td>\n",
       "      <td>3.138632</td>\n",
       "      <td>4</td>\n",
       "      <td>-1.102614</td>\n",
       "      <td>-0.677302</td>\n",
       "      <td>-1.080107</td>\n",
       "      <td>-0.953341</td>\n",
       "      <td>0.195405</td>\n",
       "    </tr>\n",
       "    <tr>\n",
       "      <th>4</th>\n",
       "      <td>0.000997</td>\n",
       "      <td>8.140041e-04</td>\n",
       "      <td>0.000665</td>\n",
       "      <td>4.701355e-04</td>\n",
       "      <td>0.1</td>\n",
       "      <td>{'alpha': 0.1}</td>\n",
       "      <td>-1.757894</td>\n",
       "      <td>-7.815751</td>\n",
       "      <td>-8.919929</td>\n",
       "      <td>-6.164525</td>\n",
       "      <td>3.148396</td>\n",
       "      <td>3</td>\n",
       "      <td>-1.102659</td>\n",
       "      <td>-0.677314</td>\n",
       "      <td>-1.080112</td>\n",
       "      <td>-0.953362</td>\n",
       "      <td>0.195412</td>\n",
       "    </tr>\n",
       "  </tbody>\n",
       "</table>\n",
       "</div>"
      ],
      "text/plain": [
       "   mean_fit_time  std_fit_time  mean_score_time  std_score_time param_alpha  \\\n",
       "0       0.000997  8.485379e-07         0.000334    4.723819e-04       1e-05   \n",
       "1       0.000664  4.698539e-04         0.000331    4.682234e-04      0.0001   \n",
       "2       0.000993  6.184602e-06         0.000998    7.786718e-07       0.001   \n",
       "3       0.000998  3.893359e-07         0.000000    0.000000e+00        0.01   \n",
       "4       0.000997  8.140041e-04         0.000665    4.701355e-04         0.1   \n",
       "\n",
       "              params  split0_test_score  split1_test_score  split2_test_score  \\\n",
       "0   {'alpha': 1e-05}          -1.820046          -7.865763          -8.952069   \n",
       "1  {'alpha': 0.0001}          -1.819990          -7.865717          -8.952040   \n",
       "2   {'alpha': 0.001}          -1.819425          -7.865267          -8.951751   \n",
       "3    {'alpha': 0.01}          -1.813785          -7.860758          -8.948855   \n",
       "4     {'alpha': 0.1}          -1.757894          -7.815751          -8.919929   \n",
       "\n",
       "   mean_test_score  std_test_score  rank_test_score  split0_train_score  \\\n",
       "0        -6.212626        3.137524                7           -1.102613   \n",
       "1        -6.212582        3.137534                6           -1.102613   \n",
       "2        -6.212147        3.137634                5           -1.102613   \n",
       "3        -6.207800        3.138632                4           -1.102614   \n",
       "4        -6.164525        3.148396                3           -1.102659   \n",
       "\n",
       "   split1_train_score  split2_train_score  mean_train_score  std_train_score  \n",
       "0           -0.677302           -1.080107         -0.953341         0.195405  \n",
       "1           -0.677302           -1.080107         -0.953341         0.195405  \n",
       "2           -0.677302           -1.080107         -0.953341         0.195405  \n",
       "3           -0.677302           -1.080107         -0.953341         0.195405  \n",
       "4           -0.677314           -1.080112         -0.953362         0.195412  "
      ]
     },
     "execution_count": 180,
     "metadata": {},
     "output_type": "execute_result"
    }
   ],
   "source": [
    "train_score= results['mean_train_score']\n",
    "train_score_std= results['std_train_score']\n",
    "cv_score = results['mean_test_score'] \n",
    "cv_score_std= results['std_test_score']\n",
    "param_alpha = results['param_alpha']\n",
    "results.head(5)"
   ]
  },
  {
   "cell_type": "code",
   "execution_count": 181,
   "metadata": {},
   "outputs": [
    {
     "data": {
      "image/png": "[encoded data removed]",
      "text/plain": [
       "<Figure size 432x288 with 1 Axes>"
      ]
     },
     "metadata": {
      "needs_background": "light"
     },
     "output_type": "display_data"
    }
   ],
   "source": [
    "plt.plot(np.log10(param_alpha.astype(float)), np.abs(train_score), label = 'Train')\n",
    "plt.plot(np.log10(param_alpha.astype(float)), np.abs(cv_score), label = 'Validation')\n",
    "plt.xlabel('Log Alpha')\n",
    "plt.ylabel('MSE')\n",
    "plt.legend()\n",
    "plt.show()"
   ]
  },
  {
   "cell_type": "code",
   "execution_count": 182,
   "metadata": {},
   "outputs": [
    {
     "name": "stdout",
     "output_type": "stream",
     "text": [
      "2482.861320501752\n",
      "2.6563003424497125\n"
     ]
    }
   ],
   "source": [
    "lasso_regression = Lasso(alpha = 10)\n",
    "lasso_regression.fit(X_train, np.log1p(y_train))\n",
    "\n",
    "y_train_pred = lasso_regression.predict(X_train)  \n",
    "y_valid_pred = lasso_regression.predict(X_valid)\n",
    "print(rmspe(y_train, np.expm1(y_train_pred)))\n",
    "print(rmspe(y_valid, np.expm1(y_valid_pred)))"
   ]
  },
  {
   "cell_type": "code",
   "execution_count": 183,
   "metadata": {},
   "outputs": [
    {
     "name": "stdout",
     "output_type": "stream",
     "text": [
      "MSE of train:  0.9533405309044017\n",
      "MSE of test:  3.6697507813632426\n"
     ]
    }
   ],
   "source": [
    "print('MSE of train: ',min(np.abs(train_score)))\n",
    "print('MSE of test: ',min(np.abs(cv_score)))"
   ]
  },
  {
   "cell_type": "code",
   "execution_count": 185,
   "metadata": {},
   "outputs": [
    {
     "data": {
      "image/png": "[encoded data removed]",
      "text/plain": [
       "<Figure size 432x288 with 1 Axes>"
      ]
     },
     "metadata": {
      "needs_background": "light"
     },
     "output_type": "display_data"
    }
   ],
   "source": [
    "plt.plot(X_train[:,0], y_train, label = 'Train')\n",
    "plt.plot(X_valid[:,0], np.power(2.6,y_valid_pred), label = 'Prediction')\n",
    "\n",
    "plt.legend()\n",
    "plt.show()"
   ]
  },
  {
   "cell_type": "markdown",
   "metadata": {},
   "source": [
    "## Ridge Regression"
   ]
  },
  {
   "cell_type": "code",
   "execution_count": 146,
   "metadata": {},
   "outputs": [
    {
     "name": "stdout",
     "output_type": "stream",
     "text": [
      "Fitting 3 folds for each of 11 candidates, totalling 33 fits\n"
     ]
    },
    {
     "name": "stderr",
     "output_type": "stream",
     "text": [
      "[Parallel(n_jobs=-1)]: Using backend LokyBackend with 8 concurrent workers.\n",
      "[Parallel(n_jobs=-1)]: Done  18 out of  33 | elapsed:    0.0s remaining:    0.0s\n",
      "[Parallel(n_jobs=-1)]: Done  33 out of  33 | elapsed:    0.0s finished\n"
     ]
    }
   ],
   "source": [
    "ridge_regression = Ridge()\n",
    "parameters = {'alpha':[10**-5, 10**-4, 10**-3, 10**-2, 0.1, 1, 10, 10**2, 10**3, 10**4, 10**5]}\n",
    "tscv = TimeSeriesSplit(n_splits=3)\n",
    "clf = GridSearchCV(ridge_regression, parameters, cv=tscv, scoring='neg_mean_squared_error', verbose = 2, return_train_score=True, n_jobs = -1)\n",
    "clf.fit(X_train, np.log1p(y_train))\n",
    "\n",
    "results = pd.DataFrame.from_dict(clf.cv_results_)"
   ]
  },
  {
   "cell_type": "code",
   "execution_count": 147,
   "metadata": {},
   "outputs": [
    {
     "data": {
      "text/html": [
       "<div>\n",
       "<style scoped>\n",
       "    .dataframe tbody tr th:only-of-type {\n",
       "        vertical-align: middle;\n",
       "    }\n",
       "\n",
       "    .dataframe tbody tr th {\n",
       "        vertical-align: top;\n",
       "    }\n",
       "\n",
       "    .dataframe thead th {\n",
       "        text-align: right;\n",
       "    }\n",
       "</style>\n",
       "<table border=\"1\" class=\"dataframe\">\n",
       "  <thead>\n",
       "    <tr style=\"text-align: right;\">\n",
       "      <th></th>\n",
       "      <th>mean_fit_time</th>\n",
       "      <th>std_fit_time</th>\n",
       "      <th>mean_score_time</th>\n",
       "      <th>std_score_time</th>\n",
       "      <th>param_alpha</th>\n",
       "      <th>params</th>\n",
       "      <th>split0_test_score</th>\n",
       "      <th>split1_test_score</th>\n",
       "      <th>split2_test_score</th>\n",
       "      <th>mean_test_score</th>\n",
       "      <th>std_test_score</th>\n",
       "      <th>rank_test_score</th>\n",
       "      <th>split0_train_score</th>\n",
       "      <th>split1_train_score</th>\n",
       "      <th>split2_train_score</th>\n",
       "      <th>mean_train_score</th>\n",
       "      <th>std_train_score</th>\n",
       "    </tr>\n",
       "  </thead>\n",
       "  <tbody>\n",
       "    <tr>\n",
       "      <th>0</th>\n",
       "      <td>0.001329</td>\n",
       "      <td>0.000469</td>\n",
       "      <td>0.000665</td>\n",
       "      <td>0.00047</td>\n",
       "      <td>1e-05</td>\n",
       "      <td>{'alpha': 1e-05}</td>\n",
       "      <td>-0.560992</td>\n",
       "      <td>-6.279486</td>\n",
       "      <td>-8.568761</td>\n",
       "      <td>-5.136413</td>\n",
       "      <td>3.367596</td>\n",
       "      <td>10</td>\n",
       "      <td>-0.378319</td>\n",
       "      <td>-0.242244</td>\n",
       "      <td>-0.682638</td>\n",
       "      <td>-0.4344</td>\n",
       "      <td>0.184111</td>\n",
       "    </tr>\n",
       "    <tr>\n",
       "      <th>1</th>\n",
       "      <td>0.001330</td>\n",
       "      <td>0.000470</td>\n",
       "      <td>0.000332</td>\n",
       "      <td>0.00047</td>\n",
       "      <td>0.0001</td>\n",
       "      <td>{'alpha': 0.0001}</td>\n",
       "      <td>-0.560992</td>\n",
       "      <td>-6.279486</td>\n",
       "      <td>-8.568761</td>\n",
       "      <td>-5.136413</td>\n",
       "      <td>3.367596</td>\n",
       "      <td>9</td>\n",
       "      <td>-0.378319</td>\n",
       "      <td>-0.242244</td>\n",
       "      <td>-0.682638</td>\n",
       "      <td>-0.4344</td>\n",
       "      <td>0.184111</td>\n",
       "    </tr>\n",
       "    <tr>\n",
       "      <th>2</th>\n",
       "      <td>0.000997</td>\n",
       "      <td>0.000814</td>\n",
       "      <td>0.000665</td>\n",
       "      <td>0.00047</td>\n",
       "      <td>0.001</td>\n",
       "      <td>{'alpha': 0.001}</td>\n",
       "      <td>-0.560991</td>\n",
       "      <td>-6.279486</td>\n",
       "      <td>-8.568761</td>\n",
       "      <td>-5.136413</td>\n",
       "      <td>3.367596</td>\n",
       "      <td>8</td>\n",
       "      <td>-0.378319</td>\n",
       "      <td>-0.242244</td>\n",
       "      <td>-0.682638</td>\n",
       "      <td>-0.4344</td>\n",
       "      <td>0.184111</td>\n",
       "    </tr>\n",
       "    <tr>\n",
       "      <th>3</th>\n",
       "      <td>0.000653</td>\n",
       "      <td>0.000462</td>\n",
       "      <td>0.000665</td>\n",
       "      <td>0.00047</td>\n",
       "      <td>0.01</td>\n",
       "      <td>{'alpha': 0.01}</td>\n",
       "      <td>-0.560985</td>\n",
       "      <td>-6.279482</td>\n",
       "      <td>-8.568760</td>\n",
       "      <td>-5.136409</td>\n",
       "      <td>3.367598</td>\n",
       "      <td>7</td>\n",
       "      <td>-0.378319</td>\n",
       "      <td>-0.242244</td>\n",
       "      <td>-0.682638</td>\n",
       "      <td>-0.4344</td>\n",
       "      <td>0.184111</td>\n",
       "    </tr>\n",
       "    <tr>\n",
       "      <th>4</th>\n",
       "      <td>0.000997</td>\n",
       "      <td>0.000002</td>\n",
       "      <td>0.000000</td>\n",
       "      <td>0.00000</td>\n",
       "      <td>0.1</td>\n",
       "      <td>{'alpha': 0.1}</td>\n",
       "      <td>-0.560929</td>\n",
       "      <td>-6.279449</td>\n",
       "      <td>-8.568749</td>\n",
       "      <td>-5.136375</td>\n",
       "      <td>3.367616</td>\n",
       "      <td>6</td>\n",
       "      <td>-0.378319</td>\n",
       "      <td>-0.242244</td>\n",
       "      <td>-0.682638</td>\n",
       "      <td>-0.4344</td>\n",
       "      <td>0.184111</td>\n",
       "    </tr>\n",
       "  </tbody>\n",
       "</table>\n",
       "</div>"
      ],
      "text/plain": [
       "   mean_fit_time  std_fit_time  mean_score_time  std_score_time param_alpha  \\\n",
       "0       0.001329      0.000469         0.000665         0.00047       1e-05   \n",
       "1       0.001330      0.000470         0.000332         0.00047      0.0001   \n",
       "2       0.000997      0.000814         0.000665         0.00047       0.001   \n",
       "3       0.000653      0.000462         0.000665         0.00047        0.01   \n",
       "4       0.000997      0.000002         0.000000         0.00000         0.1   \n",
       "\n",
       "              params  split0_test_score  split1_test_score  split2_test_score  \\\n",
       "0   {'alpha': 1e-05}          -0.560992          -6.279486          -8.568761   \n",
       "1  {'alpha': 0.0001}          -0.560992          -6.279486          -8.568761   \n",
       "2   {'alpha': 0.001}          -0.560991          -6.279486          -8.568761   \n",
       "3    {'alpha': 0.01}          -0.560985          -6.279482          -8.568760   \n",
       "4     {'alpha': 0.1}          -0.560929          -6.279449          -8.568749   \n",
       "\n",
       "   mean_test_score  std_test_score  rank_test_score  split0_train_score  \\\n",
       "0        -5.136413        3.367596               10           -0.378319   \n",
       "1        -5.136413        3.367596                9           -0.378319   \n",
       "2        -5.136413        3.367596                8           -0.378319   \n",
       "3        -5.136409        3.367598                7           -0.378319   \n",
       "4        -5.136375        3.367616                6           -0.378319   \n",
       "\n",
       "   split1_train_score  split2_train_score  mean_train_score  std_train_score  \n",
       "0           -0.242244           -0.682638           -0.4344         0.184111  \n",
       "1           -0.242244           -0.682638           -0.4344         0.184111  \n",
       "2           -0.242244           -0.682638           -0.4344         0.184111  \n",
       "3           -0.242244           -0.682638           -0.4344         0.184111  \n",
       "4           -0.242244           -0.682638           -0.4344         0.184111  "
      ]
     },
     "execution_count": 147,
     "metadata": {},
     "output_type": "execute_result"
    }
   ],
   "source": [
    "train_score= results['mean_train_score']\n",
    "train_score_std= results['std_train_score']\n",
    "cv_score = results['mean_test_score'] \n",
    "cv_score_std= results['std_test_score']\n",
    "param_alpha = results['param_alpha']\n",
    "results.head(5)"
   ]
  },
  {
   "cell_type": "code",
   "execution_count": 148,
   "metadata": {},
   "outputs": [
    {
     "data": {
      "image/png": "[encoded data removed]",
      "text/plain": [
       "<Figure size 432x288 with 1 Axes>"
      ]
     },
     "metadata": {
      "needs_background": "light"
     },
     "output_type": "display_data"
    }
   ],
   "source": [
    "plt.plot(np.log10(param_alpha.astype(float)), np.abs(train_score), label = 'Train')\n",
    "plt.plot(np.log10(param_alpha.astype(float)), np.abs(cv_score), label = 'Validation')\n",
    "plt.xlabel('Log Alpha')\n",
    "plt.ylabel('MSE')\n",
    "plt.legend()\n",
    "plt.show()"
   ]
  },
  {
   "cell_type": "code",
   "execution_count": 149,
   "metadata": {},
   "outputs": [
    {
     "name": "stdout",
     "output_type": "stream",
     "text": [
      "MSE of train:  0.43440033722488786\n",
      "MSE of test:  4.52484446213577\n"
     ]
    }
   ],
   "source": [
    "print('MSE of train: ',min(np.abs(train_score)))\n",
    "print('MSE of test: ',min(np.abs(cv_score)))"
   ]
  },
  {
   "cell_type": "code",
   "execution_count": 237,
   "metadata": {},
   "outputs": [
    {
     "name": "stdout",
     "output_type": "stream",
     "text": [
      "4.7352331427778225\n",
      "3.610790089122761\n"
     ]
    }
   ],
   "source": [
    "ridge_regression = Ridge(alpha = 10000)\n",
    "ridge_regression.fit(X_train, np.log1p(y_train))\n",
    "\n",
    "y_train_pred = ridge_regression.predict(X_train)  \n",
    "y_valid_pred = ridge_regression.predict(X_valid)\n",
    "print(rmspe(y_train, np.expm1(y_train_pred)))\n",
    "print(rmspe(y_valid, np.expm1(y_valid_pred)))"
   ]
  },
  {
   "cell_type": "code",
   "execution_count": 192,
   "metadata": {},
   "outputs": [
    {
     "data": {
      "image/png": "[encoded data removed]",
      "text/plain": [
       "<Figure size 432x288 with 1 Axes>"
      ]
     },
     "metadata": {
      "needs_background": "light"
     },
     "output_type": "display_data"
    }
   ],
   "source": [
    "plt.plot(X_train, y_train, label = 'Train')\n",
    "plt.plot(X_valid, np.power(2.55,y_valid_pred), label = 'Prediction')\n",
    "\n",
    "plt.legend()\n",
    "plt.show()"
   ]
  },
  {
   "cell_type": "markdown",
   "metadata": {},
   "source": [
    "## Linear SVR"
   ]
  },
  {
   "cell_type": "code",
   "execution_count": 229,
   "metadata": {},
   "outputs": [
    {
     "name": "stdout",
     "output_type": "stream",
     "text": [
      "Fitting 3 folds for each of 9 candidates, totalling 27 fits\n"
     ]
    },
    {
     "name": "stderr",
     "output_type": "stream",
     "text": [
      "[Parallel(n_jobs=-1)]: Using backend LokyBackend with 8 concurrent workers.\n",
      "[Parallel(n_jobs=-1)]: Done  27 out of  27 | elapsed:    0.0s finished\n"
     ]
    }
   ],
   "source": [
    "svr_regression = LinearSVR()\n",
    "parameters = {'C':[10**-4, 10**-3, 10**-2, 0.1, 1, 10, 10**2, 10**3, 10**4]}\n",
    "tscv = TimeSeriesSplit(n_splits=3)\n",
    "clf = GridSearchCV(svr_regression, parameters, cv=tscv, scoring='neg_mean_squared_error', verbose = 2, return_train_score=True, n_jobs = -1)\n",
    "clf.fit(X_train, np.log1p(y_train))\n",
    "\n",
    "results = pd.DataFrame.from_dict(clf.cv_results_)"
   ]
  },
  {
   "cell_type": "code",
   "execution_count": 230,
   "metadata": {},
   "outputs": [
    {
     "data": {
      "text/html": [
       "<div>\n",
       "<style scoped>\n",
       "    .dataframe tbody tr th:only-of-type {\n",
       "        vertical-align: middle;\n",
       "    }\n",
       "\n",
       "    .dataframe tbody tr th {\n",
       "        vertical-align: top;\n",
       "    }\n",
       "\n",
       "    .dataframe thead th {\n",
       "        text-align: right;\n",
       "    }\n",
       "</style>\n",
       "<table border=\"1\" class=\"dataframe\">\n",
       "  <thead>\n",
       "    <tr style=\"text-align: right;\">\n",
       "      <th></th>\n",
       "      <th>mean_fit_time</th>\n",
       "      <th>std_fit_time</th>\n",
       "      <th>mean_score_time</th>\n",
       "      <th>std_score_time</th>\n",
       "      <th>param_C</th>\n",
       "      <th>params</th>\n",
       "      <th>split0_test_score</th>\n",
       "      <th>split1_test_score</th>\n",
       "      <th>split2_test_score</th>\n",
       "      <th>mean_test_score</th>\n",
       "      <th>std_test_score</th>\n",
       "      <th>rank_test_score</th>\n",
       "      <th>split0_train_score</th>\n",
       "      <th>split1_train_score</th>\n",
       "      <th>split2_train_score</th>\n",
       "      <th>mean_train_score</th>\n",
       "      <th>std_train_score</th>\n",
       "    </tr>\n",
       "  </thead>\n",
       "  <tbody>\n",
       "    <tr>\n",
       "      <th>0</th>\n",
       "      <td>0.000665</td>\n",
       "      <td>0.000470</td>\n",
       "      <td>0.000333</td>\n",
       "      <td>4.703588e-04</td>\n",
       "      <td>0.0001</td>\n",
       "      <td>{'C': 0.0001}</td>\n",
       "      <td>-14.901020</td>\n",
       "      <td>-46.439254</td>\n",
       "      <td>-56.561025</td>\n",
       "      <td>-39.300433</td>\n",
       "      <td>17.740933</td>\n",
       "      <td>5</td>\n",
       "      <td>-49.506857</td>\n",
       "      <td>-19.888163</td>\n",
       "      <td>-22.454568</td>\n",
       "      <td>-30.616529</td>\n",
       "      <td>13.398507</td>\n",
       "    </tr>\n",
       "    <tr>\n",
       "      <th>1</th>\n",
       "      <td>0.001662</td>\n",
       "      <td>0.000940</td>\n",
       "      <td>0.000333</td>\n",
       "      <td>4.704712e-04</td>\n",
       "      <td>0.001</td>\n",
       "      <td>{'C': 0.001}</td>\n",
       "      <td>-70.241236</td>\n",
       "      <td>-77.594741</td>\n",
       "      <td>-74.161478</td>\n",
       "      <td>-73.999152</td>\n",
       "      <td>3.004249</td>\n",
       "      <td>7</td>\n",
       "      <td>-18.097612</td>\n",
       "      <td>-18.202993</td>\n",
       "      <td>-21.619864</td>\n",
       "      <td>-19.306823</td>\n",
       "      <td>1.636133</td>\n",
       "    </tr>\n",
       "    <tr>\n",
       "      <th>2</th>\n",
       "      <td>0.005984</td>\n",
       "      <td>0.006359</td>\n",
       "      <td>0.000998</td>\n",
       "      <td>9.199649e-07</td>\n",
       "      <td>0.01</td>\n",
       "      <td>{'C': 0.01}</td>\n",
       "      <td>-95.792382</td>\n",
       "      <td>-75.819002</td>\n",
       "      <td>-71.137634</td>\n",
       "      <td>-80.916339</td>\n",
       "      <td>10.691158</td>\n",
       "      <td>8</td>\n",
       "      <td>-16.260119</td>\n",
       "      <td>-16.630431</td>\n",
       "      <td>-19.131233</td>\n",
       "      <td>-17.340595</td>\n",
       "      <td>1.275166</td>\n",
       "    </tr>\n",
       "    <tr>\n",
       "      <th>3</th>\n",
       "      <td>0.005983</td>\n",
       "      <td>0.000814</td>\n",
       "      <td>0.000333</td>\n",
       "      <td>4.702464e-04</td>\n",
       "      <td>0.1</td>\n",
       "      <td>{'C': 0.1}</td>\n",
       "      <td>-66.930968</td>\n",
       "      <td>-28.291854</td>\n",
       "      <td>-13.843306</td>\n",
       "      <td>-36.355376</td>\n",
       "      <td>22.410418</td>\n",
       "      <td>4</td>\n",
       "      <td>-9.623077</td>\n",
       "      <td>-5.314646</td>\n",
       "      <td>-3.256112</td>\n",
       "      <td>-6.064612</td>\n",
       "      <td>2.652847</td>\n",
       "    </tr>\n",
       "    <tr>\n",
       "      <th>4</th>\n",
       "      <td>0.005983</td>\n",
       "      <td>0.002443</td>\n",
       "      <td>0.000332</td>\n",
       "      <td>4.701340e-04</td>\n",
       "      <td>1</td>\n",
       "      <td>{'C': 1}</td>\n",
       "      <td>-1.183592</td>\n",
       "      <td>-2.495135</td>\n",
       "      <td>-10.077825</td>\n",
       "      <td>-4.585518</td>\n",
       "      <td>3.920384</td>\n",
       "      <td>2</td>\n",
       "      <td>-0.540370</td>\n",
       "      <td>-0.357056</td>\n",
       "      <td>-0.723048</td>\n",
       "      <td>-0.540158</td>\n",
       "      <td>0.149416</td>\n",
       "    </tr>\n",
       "  </tbody>\n",
       "</table>\n",
       "</div>"
      ],
      "text/plain": [
       "   mean_fit_time  std_fit_time  mean_score_time  std_score_time param_C  \\\n",
       "0       0.000665      0.000470         0.000333    4.703588e-04  0.0001   \n",
       "1       0.001662      0.000940         0.000333    4.704712e-04   0.001   \n",
       "2       0.005984      0.006359         0.000998    9.199649e-07    0.01   \n",
       "3       0.005983      0.000814         0.000333    4.702464e-04     0.1   \n",
       "4       0.005983      0.002443         0.000332    4.701340e-04       1   \n",
       "\n",
       "          params  split0_test_score  split1_test_score  split2_test_score  \\\n",
       "0  {'C': 0.0001}         -14.901020         -46.439254         -56.561025   \n",
       "1   {'C': 0.001}         -70.241236         -77.594741         -74.161478   \n",
       "2    {'C': 0.01}         -95.792382         -75.819002         -71.137634   \n",
       "3     {'C': 0.1}         -66.930968         -28.291854         -13.843306   \n",
       "4       {'C': 1}          -1.183592          -2.495135         -10.077825   \n",
       "\n",
       "   mean_test_score  std_test_score  rank_test_score  split0_train_score  \\\n",
       "0       -39.300433       17.740933                5          -49.506857   \n",
       "1       -73.999152        3.004249                7          -18.097612   \n",
       "2       -80.916339       10.691158                8          -16.260119   \n",
       "3       -36.355376       22.410418                4           -9.623077   \n",
       "4        -4.585518        3.920384                2           -0.540370   \n",
       "\n",
       "   split1_train_score  split2_train_score  mean_train_score  std_train_score  \n",
       "0          -19.888163          -22.454568        -30.616529        13.398507  \n",
       "1          -18.202993          -21.619864        -19.306823         1.636133  \n",
       "2          -16.630431          -19.131233        -17.340595         1.275166  \n",
       "3           -5.314646           -3.256112         -6.064612         2.652847  \n",
       "4           -0.357056           -0.723048         -0.540158         0.149416  "
      ]
     },
     "execution_count": 230,
     "metadata": {},
     "output_type": "execute_result"
    }
   ],
   "source": [
    "train_score= results['mean_train_score']\n",
    "train_score_std= results['std_train_score']\n",
    "cv_score = results['mean_test_score'] \n",
    "cv_score_std= results['std_test_score']\n",
    "param_C = results['param_C']\n",
    "results.head(5)"
   ]
  },
  {
   "cell_type": "code",
   "execution_count": 231,
   "metadata": {},
   "outputs": [
    {
     "data": {
      "image/png": "[encoded data removed]",
      "text/plain": [
       "<Figure size 432x288 with 1 Axes>"
      ]
     },
     "metadata": {
      "needs_background": "light"
     },
     "output_type": "display_data"
    }
   ],
   "source": [
    "plt.plot(np.log10(param_C.astype(float)), np.abs(train_score), label = 'Train')\n",
    "plt.plot(np.log10(param_C.astype(float)), np.abs(cv_score), label = 'Validation')\n",
    "plt.xlabel('Log C')\n",
    "plt.ylabel('MSE')\n",
    "plt.legend()\n",
    "plt.show()"
   ]
  },
  {
   "cell_type": "code",
   "execution_count": 232,
   "metadata": {},
   "outputs": [
    {
     "name": "stdout",
     "output_type": "stream",
     "text": [
      "MSE of train:  0.5401582111542934\n",
      "MSE of test:  1.5171056861075616\n"
     ]
    }
   ],
   "source": [
    "print('MSE of train: ',min(np.abs(train_score)))\n",
    "print('MSE of test: ',min(np.abs(cv_score)))"
   ]
  },
  {
   "cell_type": "code",
   "execution_count": 233,
   "metadata": {},
   "outputs": [
    {
     "name": "stdout",
     "output_type": "stream",
     "text": [
      "6363.051897930776\n",
      "10.86231613771456\n"
     ]
    }
   ],
   "source": [
    "svr_regression = LinearSVR(C = 1)\n",
    "svr_regression.fit(X_train, np.log1p(y_train))\n",
    "\n",
    "y_train_pred = svr_regression.predict(X_train)  \n",
    "y_valid_pred = svr_regression.predict(X_valid)\n",
    "print(rmspe(y_train, np.expm1(y_train_pred)))\n",
    "print(rmspe(y_valid, np.expm1(y_valid_pred)))"
   ]
  },
  {
   "cell_type": "code",
   "execution_count": 235,
   "metadata": {},
   "outputs": [
    {
     "data": {
      "image/png": "[encoded data removed]",
      "text/plain": [
       "<Figure size 432x288 with 1 Axes>"
      ]
     },
     "metadata": {
      "needs_background": "light"
     },
     "output_type": "display_data"
    }
   ],
   "source": [
    "plt.plot(X_train, y_train, label = 'Train')\n",
    "plt.plot(X_valid, np.power(2.45,y_valid_pred), label = 'Prediction')\n",
    "\n",
    "plt.legend()\n",
    "plt.show()"
   ]
  },
  {
   "cell_type": "markdown",
   "metadata": {},
   "source": [
    "## Decision Tree"
   ]
  },
  {
   "cell_type": "code",
   "execution_count": 198,
   "metadata": {},
   "outputs": [
    {
     "name": "stdout",
     "output_type": "stream",
     "text": [
      "Fitting 3 folds for each of 12 candidates, totalling 36 fits\n"
     ]
    },
    {
     "name": "stderr",
     "output_type": "stream",
     "text": [
      "[Parallel(n_jobs=-1)]: Using backend LokyBackend with 8 concurrent workers.\n",
      "[Parallel(n_jobs=-1)]: Done  36 out of  36 | elapsed:    1.5s finished\n"
     ]
    }
   ],
   "source": [
    "decision_tree = DecisionTreeRegressor()\n",
    "\n",
    "tscv = TimeSeriesSplit(n_splits=3)\n",
    "parameters = {'min_samples_split':[100, 200, 500], 'max_depth':[10, 20, 30, 50]}\n",
    "clf = GridSearchCV(decision_tree, parameters, cv=tscv, scoring='neg_mean_squared_error', verbose = 2, return_train_score=True, n_jobs = -1)\n",
    "clf.fit(X_train, np.log1p(y_train))\n",
    "\n",
    "results = pd.DataFrame.from_dict(clf.cv_results_)"
   ]
  },
  {
   "cell_type": "code",
   "execution_count": 199,
   "metadata": {},
   "outputs": [
    {
     "data": {
      "text/plain": [
       "{'max_depth': 10, 'min_samples_split': 100}"
      ]
     },
     "execution_count": 199,
     "metadata": {},
     "output_type": "execute_result"
    }
   ],
   "source": [
    "clf.best_params_"
   ]
  },
  {
   "cell_type": "code",
   "execution_count": 200,
   "metadata": {},
   "outputs": [
    {
     "data": {
      "text/html": [
       "<div>\n",
       "<style scoped>\n",
       "    .dataframe tbody tr th:only-of-type {\n",
       "        vertical-align: middle;\n",
       "    }\n",
       "\n",
       "    .dataframe tbody tr th {\n",
       "        vertical-align: top;\n",
       "    }\n",
       "\n",
       "    .dataframe thead th {\n",
       "        text-align: right;\n",
       "    }\n",
       "</style>\n",
       "<table border=\"1\" class=\"dataframe\">\n",
       "  <thead>\n",
       "    <tr style=\"text-align: right;\">\n",
       "      <th></th>\n",
       "      <th>mean_fit_time</th>\n",
       "      <th>std_fit_time</th>\n",
       "      <th>mean_score_time</th>\n",
       "      <th>std_score_time</th>\n",
       "      <th>param_max_depth</th>\n",
       "      <th>param_min_samples_split</th>\n",
       "      <th>params</th>\n",
       "      <th>split0_test_score</th>\n",
       "      <th>split1_test_score</th>\n",
       "      <th>split2_test_score</th>\n",
       "      <th>mean_test_score</th>\n",
       "      <th>std_test_score</th>\n",
       "      <th>rank_test_score</th>\n",
       "      <th>split0_train_score</th>\n",
       "      <th>split1_train_score</th>\n",
       "      <th>split2_train_score</th>\n",
       "      <th>mean_train_score</th>\n",
       "      <th>std_train_score</th>\n",
       "    </tr>\n",
       "  </thead>\n",
       "  <tbody>\n",
       "    <tr>\n",
       "      <th>0</th>\n",
       "      <td>0.000665</td>\n",
       "      <td>4.702466e-04</td>\n",
       "      <td>0.000664</td>\n",
       "      <td>4.698532e-04</td>\n",
       "      <td>10</td>\n",
       "      <td>100</td>\n",
       "      <td>{'max_depth': 10, 'min_samples_split': 100}</td>\n",
       "      <td>-12.530295</td>\n",
       "      <td>-2.164511</td>\n",
       "      <td>-2.075380</td>\n",
       "      <td>-5.590062</td>\n",
       "      <td>4.907621</td>\n",
       "      <td>1</td>\n",
       "      <td>-2.110192</td>\n",
       "      <td>-1.475235</td>\n",
       "      <td>-1.289234</td>\n",
       "      <td>-1.624887</td>\n",
       "      <td>0.351463</td>\n",
       "    </tr>\n",
       "    <tr>\n",
       "      <th>1</th>\n",
       "      <td>0.000997</td>\n",
       "      <td>2.247832e-07</td>\n",
       "      <td>0.000997</td>\n",
       "      <td>3.371748e-07</td>\n",
       "      <td>10</td>\n",
       "      <td>200</td>\n",
       "      <td>{'max_depth': 10, 'min_samples_split': 200}</td>\n",
       "      <td>-12.530295</td>\n",
       "      <td>-11.811294</td>\n",
       "      <td>-10.116178</td>\n",
       "      <td>-11.485922</td>\n",
       "      <td>1.012057</td>\n",
       "      <td>5</td>\n",
       "      <td>-2.110192</td>\n",
       "      <td>-4.432802</td>\n",
       "      <td>-5.589869</td>\n",
       "      <td>-4.044288</td>\n",
       "      <td>1.446892</td>\n",
       "    </tr>\n",
       "    <tr>\n",
       "      <th>2</th>\n",
       "      <td>0.000998</td>\n",
       "      <td>1.410739e-03</td>\n",
       "      <td>0.000665</td>\n",
       "      <td>4.700217e-04</td>\n",
       "      <td>10</td>\n",
       "      <td>500</td>\n",
       "      <td>{'max_depth': 10, 'min_samples_split': 500}</td>\n",
       "      <td>-12.530295</td>\n",
       "      <td>-11.811294</td>\n",
       "      <td>-10.116178</td>\n",
       "      <td>-11.485922</td>\n",
       "      <td>1.012057</td>\n",
       "      <td>5</td>\n",
       "      <td>-2.110192</td>\n",
       "      <td>-4.432802</td>\n",
       "      <td>-5.589869</td>\n",
       "      <td>-4.044288</td>\n",
       "      <td>1.446892</td>\n",
       "    </tr>\n",
       "    <tr>\n",
       "      <th>3</th>\n",
       "      <td>0.001663</td>\n",
       "      <td>9.399872e-04</td>\n",
       "      <td>0.000000</td>\n",
       "      <td>0.000000e+00</td>\n",
       "      <td>20</td>\n",
       "      <td>100</td>\n",
       "      <td>{'max_depth': 20, 'min_samples_split': 100}</td>\n",
       "      <td>-12.530295</td>\n",
       "      <td>-2.164511</td>\n",
       "      <td>-2.075380</td>\n",
       "      <td>-5.590062</td>\n",
       "      <td>4.907621</td>\n",
       "      <td>1</td>\n",
       "      <td>-2.110192</td>\n",
       "      <td>-1.475235</td>\n",
       "      <td>-1.289234</td>\n",
       "      <td>-1.624887</td>\n",
       "      <td>0.351463</td>\n",
       "    </tr>\n",
       "    <tr>\n",
       "      <th>4</th>\n",
       "      <td>0.000997</td>\n",
       "      <td>3.371748e-07</td>\n",
       "      <td>0.000333</td>\n",
       "      <td>4.703588e-04</td>\n",
       "      <td>20</td>\n",
       "      <td>200</td>\n",
       "      <td>{'max_depth': 20, 'min_samples_split': 200}</td>\n",
       "      <td>-12.530295</td>\n",
       "      <td>-11.811294</td>\n",
       "      <td>-10.116178</td>\n",
       "      <td>-11.485922</td>\n",
       "      <td>1.012057</td>\n",
       "      <td>5</td>\n",
       "      <td>-2.110192</td>\n",
       "      <td>-4.432802</td>\n",
       "      <td>-5.589869</td>\n",
       "      <td>-4.044288</td>\n",
       "      <td>1.446892</td>\n",
       "    </tr>\n",
       "    <tr>\n",
       "      <th>5</th>\n",
       "      <td>0.000665</td>\n",
       "      <td>4.700783e-04</td>\n",
       "      <td>0.000665</td>\n",
       "      <td>4.704153e-04</td>\n",
       "      <td>20</td>\n",
       "      <td>500</td>\n",
       "      <td>{'max_depth': 20, 'min_samples_split': 500}</td>\n",
       "      <td>-12.530295</td>\n",
       "      <td>-11.811294</td>\n",
       "      <td>-10.116178</td>\n",
       "      <td>-11.485922</td>\n",
       "      <td>1.012057</td>\n",
       "      <td>5</td>\n",
       "      <td>-2.110192</td>\n",
       "      <td>-4.432802</td>\n",
       "      <td>-5.589869</td>\n",
       "      <td>-4.044288</td>\n",
       "      <td>1.446892</td>\n",
       "    </tr>\n",
       "    <tr>\n",
       "      <th>6</th>\n",
       "      <td>0.000332</td>\n",
       "      <td>4.695721e-04</td>\n",
       "      <td>0.000665</td>\n",
       "      <td>4.701341e-04</td>\n",
       "      <td>30</td>\n",
       "      <td>100</td>\n",
       "      <td>{'max_depth': 30, 'min_samples_split': 100}</td>\n",
       "      <td>-12.530295</td>\n",
       "      <td>-2.164511</td>\n",
       "      <td>-2.075380</td>\n",
       "      <td>-5.590062</td>\n",
       "      <td>4.907621</td>\n",
       "      <td>1</td>\n",
       "      <td>-2.110192</td>\n",
       "      <td>-1.475235</td>\n",
       "      <td>-1.289234</td>\n",
       "      <td>-1.624887</td>\n",
       "      <td>0.351463</td>\n",
       "    </tr>\n",
       "    <tr>\n",
       "      <th>7</th>\n",
       "      <td>0.000665</td>\n",
       "      <td>4.701347e-04</td>\n",
       "      <td>0.000333</td>\n",
       "      <td>4.703588e-04</td>\n",
       "      <td>30</td>\n",
       "      <td>200</td>\n",
       "      <td>{'max_depth': 30, 'min_samples_split': 200}</td>\n",
       "      <td>-12.530295</td>\n",
       "      <td>-11.811294</td>\n",
       "      <td>-10.116178</td>\n",
       "      <td>-11.485922</td>\n",
       "      <td>1.012057</td>\n",
       "      <td>5</td>\n",
       "      <td>-2.110192</td>\n",
       "      <td>-4.432802</td>\n",
       "      <td>-5.589869</td>\n",
       "      <td>-4.044288</td>\n",
       "      <td>1.446892</td>\n",
       "    </tr>\n",
       "  </tbody>\n",
       "</table>\n",
       "</div>"
      ],
      "text/plain": [
       "   mean_fit_time  std_fit_time  mean_score_time  std_score_time  \\\n",
       "0       0.000665  4.702466e-04         0.000664    4.698532e-04   \n",
       "1       0.000997  2.247832e-07         0.000997    3.371748e-07   \n",
       "2       0.000998  1.410739e-03         0.000665    4.700217e-04   \n",
       "3       0.001663  9.399872e-04         0.000000    0.000000e+00   \n",
       "4       0.000997  3.371748e-07         0.000333    4.703588e-04   \n",
       "5       0.000665  4.700783e-04         0.000665    4.704153e-04   \n",
       "6       0.000332  4.695721e-04         0.000665    4.701341e-04   \n",
       "7       0.000665  4.701347e-04         0.000333    4.703588e-04   \n",
       "\n",
       "  param_max_depth param_min_samples_split  \\\n",
       "0              10                     100   \n",
       "1              10                     200   \n",
       "2              10                     500   \n",
       "3              20                     100   \n",
       "4              20                     200   \n",
       "5              20                     500   \n",
       "6              30                     100   \n",
       "7              30                     200   \n",
       "\n",
       "                                        params  split0_test_score  \\\n",
       "0  {'max_depth': 10, 'min_samples_split': 100}         -12.530295   \n",
       "1  {'max_depth': 10, 'min_samples_split': 200}         -12.530295   \n",
       "2  {'max_depth': 10, 'min_samples_split': 500}         -12.530295   \n",
       "3  {'max_depth': 20, 'min_samples_split': 100}         -12.530295   \n",
       "4  {'max_depth': 20, 'min_samples_split': 200}         -12.530295   \n",
       "5  {'max_depth': 20, 'min_samples_split': 500}         -12.530295   \n",
       "6  {'max_depth': 30, 'min_samples_split': 100}         -12.530295   \n",
       "7  {'max_depth': 30, 'min_samples_split': 200}         -12.530295   \n",
       "\n",
       "   split1_test_score  split2_test_score  mean_test_score  std_test_score  \\\n",
       "0          -2.164511          -2.075380        -5.590062        4.907621   \n",
       "1         -11.811294         -10.116178       -11.485922        1.012057   \n",
       "2         -11.811294         -10.116178       -11.485922        1.012057   \n",
       "3          -2.164511          -2.075380        -5.590062        4.907621   \n",
       "4         -11.811294         -10.116178       -11.485922        1.012057   \n",
       "5         -11.811294         -10.116178       -11.485922        1.012057   \n",
       "6          -2.164511          -2.075380        -5.590062        4.907621   \n",
       "7         -11.811294         -10.116178       -11.485922        1.012057   \n",
       "\n",
       "   rank_test_score  split0_train_score  split1_train_score  \\\n",
       "0                1           -2.110192           -1.475235   \n",
       "1                5           -2.110192           -4.432802   \n",
       "2                5           -2.110192           -4.432802   \n",
       "3                1           -2.110192           -1.475235   \n",
       "4                5           -2.110192           -4.432802   \n",
       "5                5           -2.110192           -4.432802   \n",
       "6                1           -2.110192           -1.475235   \n",
       "7                5           -2.110192           -4.432802   \n",
       "\n",
       "   split2_train_score  mean_train_score  std_train_score  \n",
       "0           -1.289234         -1.624887         0.351463  \n",
       "1           -5.589869         -4.044288         1.446892  \n",
       "2           -5.589869         -4.044288         1.446892  \n",
       "3           -1.289234         -1.624887         0.351463  \n",
       "4           -5.589869         -4.044288         1.446892  \n",
       "5           -5.589869         -4.044288         1.446892  \n",
       "6           -1.289234         -1.624887         0.351463  \n",
       "7           -5.589869         -4.044288         1.446892  "
      ]
     },
     "execution_count": 200,
     "metadata": {},
     "output_type": "execute_result"
    }
   ],
   "source": [
    "train_auc= results['mean_train_score']\n",
    "train_auc_std= results['std_train_score']\n",
    "cv_auc = results['mean_test_score'] \n",
    "cv_auc_std= results['std_test_score']\n",
    "param_max_depth = results['param_max_depth']\n",
    "param_min_samples_split = results['param_min_samples_split']\n",
    "results.head(8)"
   ]
  },
  {
   "cell_type": "code",
   "execution_count": 201,
   "metadata": {},
   "outputs": [
    {
     "data": {
      "text/plain": [
       "<AxesSubplot:xlabel='param_max_depth', ylabel='param_min_samples_split'>"
      ]
     },
     "execution_count": 201,
     "metadata": {},
     "output_type": "execute_result"
    },
    {
     "data": {
      "image/png": "[encoded data removed]",
      "text/plain": [
       "<Figure size 432x288 with 2 Axes>"
      ]
     },
     "metadata": {
      "needs_background": "light"
     },
     "output_type": "display_data"
    }
   ],
   "source": [
    "data_train = results.pivot('param_min_samples_split', 'param_max_depth', 'mean_train_score')\n",
    "sns.heatmap(data_train, annot=True)"
   ]
  },
  {
   "cell_type": "code",
   "execution_count": 202,
   "metadata": {},
   "outputs": [
    {
     "data": {
      "text/plain": [
       "<AxesSubplot:xlabel='param_max_depth', ylabel='param_min_samples_split'>"
      ]
     },
     "execution_count": 202,
     "metadata": {},
     "output_type": "execute_result"
    },
    {
     "data": {
      "image/png": "[encoded data removed]",
      "text/plain": [
       "<Figure size 432x288 with 2 Axes>"
      ]
     },
     "metadata": {
      "needs_background": "light"
     },
     "output_type": "display_data"
    }
   ],
   "source": [
    "data_train = results.pivot('param_min_samples_split', 'param_max_depth', 'mean_test_score')\n",
    "sns.heatmap(data_train, annot=True)"
   ]
  },
  {
   "cell_type": "code",
   "execution_count": 215,
   "metadata": {},
   "outputs": [],
   "source": [
    "best_max_depth = 20\n",
    "best_min_samples_split = 100\n",
    "\n",
    "decision_tree = DecisionTreeRegressor(max_depth= best_max_depth, min_samples_split=best_min_samples_split)\n",
    "decision_tree.fit(X_train, np.log1p(y_train))\n",
    "\n",
    "y_train_pred = decision_tree.predict(X_train)  \n",
    "y_valid_pred = decision_tree.predict(X_valid)"
   ]
  },
  {
   "cell_type": "code",
   "execution_count": 216,
   "metadata": {},
   "outputs": [
    {
     "name": "stdout",
     "output_type": "stream",
     "text": [
      "MSE of train:  0.944041627320382\n",
      "MSE of test:  0.6721772461931861\n"
     ]
    }
   ],
   "source": [
    "print('MSE of train: ',mean_squared_error(np.log1p(y_train), y_train_pred))\n",
    "print('MSE of test: ',mean_squared_error(np.log1p(y_valid), y_valid_pred))"
   ]
  },
  {
   "cell_type": "code",
   "execution_count": 217,
   "metadata": {},
   "outputs": [
    {
     "name": "stdout",
     "output_type": "stream",
     "text": [
      "1255.7889141130781\n",
      "0.5576754682866454\n"
     ]
    }
   ],
   "source": [
    "print(rmspe(y_train, np.expm1(y_train_pred)))\n",
    "print(rmspe(y_valid, np.expm1(y_valid_pred)))"
   ]
  },
  {
   "cell_type": "code",
   "execution_count": 210,
   "metadata": {},
   "outputs": [
    {
     "data": {
      "image/png": "[encoded data removed]",
      "text/plain": [
       "<Figure size 432x288 with 1 Axes>"
      ]
     },
     "metadata": {
      "needs_background": "light"
     },
     "output_type": "display_data"
    }
   ],
   "source": [
    "plt.plot(X_train, y_train, label = 'Train')\n",
    "plt.plot(X_valid, np.power(2.85,y_valid_pred), label = 'Prediction')\n",
    "\n",
    "plt.legend()\n",
    "plt.show()"
   ]
  },
  {
   "cell_type": "code",
   "execution_count": null,
   "metadata": {},
   "outputs": [],
   "source": []
  }
 ],
 "metadata": {
  "kernelspec": {
   "display_name": "Python 3",
   "language": "python",
   "name": "python3"
  },
  "language_info": {
   "codemirror_mode": {
    "name": "ipython",
    "version": 3
   },
   "file_extension": ".py",
   "mimetype": "text/x-python",
   "name": "python",
   "nbconvert_exporter": "python",
   "pygments_lexer": "ipython3",
   "version": "3.6.8"
  }
 },
 "nbformat": 4,
 "nbformat_minor": 4
}
